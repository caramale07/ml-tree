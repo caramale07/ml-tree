{
 "cells": [
  {
   "cell_type": "markdown",
   "id": "e50f762a",
   "metadata": {},
   "source": [
    "# 1. Load dataset\n",
    "#### In this assignment, you are expected to build a decision tree model that classifies a toy dataset.\n",
    "#### You will need to read the data from the file (data.csv). It contains 15000 samples and two features for each sample."
   ]
  },
  {
   "cell_type": "code",
   "execution_count": 1,
   "id": "1d7d721e",
   "metadata": {},
   "outputs": [
    {
     "data": {
      "text/html": [
       "<div>\n",
       "<style scoped>\n",
       "    .dataframe tbody tr th:only-of-type {\n",
       "        vertical-align: middle;\n",
       "    }\n",
       "\n",
       "    .dataframe tbody tr th {\n",
       "        vertical-align: top;\n",
       "    }\n",
       "\n",
       "    .dataframe thead th {\n",
       "        text-align: right;\n",
       "    }\n",
       "</style>\n",
       "<table border=\"1\" class=\"dataframe\">\n",
       "  <thead>\n",
       "    <tr style=\"text-align: right;\">\n",
       "      <th></th>\n",
       "      <th>1.018255499889504426e+04</th>\n",
       "      <th>-3.718306912453772384e+02</th>\n",
       "      <th>1.000000000000000000e+02</th>\n",
       "    </tr>\n",
       "  </thead>\n",
       "  <tbody>\n",
       "    <tr>\n",
       "      <th>0</th>\n",
       "      <td>-8493.323486</td>\n",
       "      <td>7009.446179</td>\n",
       "      <td>0.0</td>\n",
       "    </tr>\n",
       "    <tr>\n",
       "      <th>1</th>\n",
       "      <td>21322.088204</td>\n",
       "      <td>-390.558362</td>\n",
       "      <td>100.0</td>\n",
       "    </tr>\n",
       "    <tr>\n",
       "      <th>2</th>\n",
       "      <td>5473.925002</td>\n",
       "      <td>-1878.223941</td>\n",
       "      <td>0.0</td>\n",
       "    </tr>\n",
       "    <tr>\n",
       "      <th>3</th>\n",
       "      <td>-7422.540710</td>\n",
       "      <td>5291.351276</td>\n",
       "      <td>0.0</td>\n",
       "    </tr>\n",
       "    <tr>\n",
       "      <th>4</th>\n",
       "      <td>-9103.655795</td>\n",
       "      <td>3197.164389</td>\n",
       "      <td>0.0</td>\n",
       "    </tr>\n",
       "  </tbody>\n",
       "</table>\n",
       "</div>"
      ],
      "text/plain": [
       "   1.018255499889504426e+04  -3.718306912453772384e+02  \\\n",
       "0              -8493.323486                7009.446179   \n",
       "1              21322.088204                -390.558362   \n",
       "2               5473.925002               -1878.223941   \n",
       "3              -7422.540710                5291.351276   \n",
       "4              -9103.655795                3197.164389   \n",
       "\n",
       "   1.000000000000000000e+02  \n",
       "0                       0.0  \n",
       "1                     100.0  \n",
       "2                       0.0  \n",
       "3                       0.0  \n",
       "4                       0.0  "
      ]
     },
     "execution_count": 1,
     "metadata": {},
     "output_type": "execute_result"
    }
   ],
   "source": [
    "import pandas as pd\n",
    "import numpy as np\n",
    "df=pd.read_csv('data.csv')\n",
    "df.head()"
   ]
  },
  {
   "cell_type": "markdown",
   "id": "5ceacf95",
   "metadata": {},
   "source": [
    "# 2. Prepare dataset\n",
    "#### Split the data into train and test sets."
   ]
  },
  {
   "cell_type": "code",
   "execution_count": 2,
   "id": "0b89aa3a",
   "metadata": {},
   "outputs": [],
   "source": [
    "from sklearn.model_selection import train_test_split\n",
    "X=df.iloc[:,:2]\n",
    "y=df.iloc[:,2]\n",
    "\n",
    "X_train, X_test, y_train, y_test = train_test_split(X, y, test_size=0.25)"
   ]
  },
  {
   "cell_type": "code",
   "execution_count": null,
   "id": "c8d651cb",
   "metadata": {},
   "outputs": [],
   "source": []
  },
  {
   "cell_type": "markdown",
   "id": "72d7d6a2",
   "metadata": {},
   "source": [
    "# 3. Modeling\n",
    "#### Train a decision tree classifier on the data. You can use DecisionTreeClassifier. Use grid search to tune the hyperparameters."
   ]
  },
  {
   "cell_type": "code",
   "execution_count": 3,
   "id": "c1bd7e6e",
   "metadata": {},
   "outputs": [
    {
     "data": {
      "text/plain": [
       "{'criterion': 'entropy', 'max_depth': 9, 'min_samples_leaf': 55}"
      ]
     },
     "execution_count": 3,
     "metadata": {},
     "output_type": "execute_result"
    }
   ],
   "source": [
    "from sklearn.model_selection import GridSearchCV\n",
    "from sklearn.tree import DecisionTreeClassifier\n",
    "\n",
    "params={'criterion':['gini','entropy'], 'max_depth':[4,5,6,7,8,9,10,11,12,15,20,30,40,50,70,90,120,150], 'min_samples_leaf':[55,60,65,70,75]}\n",
    "clf = GridSearchCV(DecisionTreeClassifier(), params, cv=5)\n",
    "clf.fit(X_train, y_train)\n",
    "\n",
    "clf.best_params_"
   ]
  },
  {
   "cell_type": "code",
   "execution_count": 4,
   "id": "db5801f0",
   "metadata": {},
   "outputs": [
    {
     "data": {
      "text/plain": [
       "0.8614982263722147"
      ]
     },
     "execution_count": 4,
     "metadata": {},
     "output_type": "execute_result"
    }
   ],
   "source": [
    "clf.best_score_"
   ]
  },
  {
   "cell_type": "markdown",
   "id": "2d8d913d",
   "metadata": {},
   "source": [
    "#### Train the best model you found on the whole train set (do you need to?) and evaluate the model on the test set."
   ]
  },
  {
   "cell_type": "code",
   "execution_count": 5,
   "id": "622d1725",
   "metadata": {},
   "outputs": [
    {
     "data": {
      "text/plain": [
       "0.8541333333333333"
      ]
     },
     "execution_count": 5,
     "metadata": {},
     "output_type": "execute_result"
    }
   ],
   "source": [
    "# we do not need: by default, GridSearchCV trains the best model found on the whole training set\n",
    "# but \n",
    "from sklearn.metrics import accuracy_score\n",
    "\n",
    "model = DecisionTreeClassifier(criterion='entropy', max_depth=7, min_samples_leaf=70)\n",
    "model.fit(X_train, y_train)\n",
    "predicts=model.predict(X_test)\n",
    "accuracy_score(y_test, predicts)"
   ]
  },
  {
   "cell_type": "markdown",
   "id": "6ffa5982",
   "metadata": {},
   "source": [
    "#### Generate 1,500 subsets of the training set, each containing 100 randomly chosen instances. You can use ShuffleSplit."
   ]
  },
  {
   "cell_type": "code",
   "execution_count": 6,
   "id": "e1fb1f52",
   "metadata": {},
   "outputs": [
    {
     "name": "stdout",
     "output_type": "stream",
     "text": [
      "ShuffleSplit(n_splits=1500, random_state=42, test_size=100, train_size=100)\n"
     ]
    }
   ],
   "source": [
    "from sklearn.model_selection import ShuffleSplit\n",
    "\n",
    "rs = ShuffleSplit(n_splits=1500, random_state=42, train_size=100, test_size=100)\n",
    "\n",
    "print(rs)"
   ]
  },
  {
   "cell_type": "markdown",
   "id": "44c03706",
   "metadata": {},
   "source": [
    "#### Train one tree on each subset, using the best model you previously found. Evaluate the performance of the trees using the test set. Did you get lower or higher accuracy?"
   ]
  },
  {
   "cell_type": "code",
   "execution_count": 7,
   "id": "e316d4fb",
   "metadata": {},
   "outputs": [
    {
     "name": "stdout",
     "output_type": "stream",
     "text": [
      "number of subsets:1500\n"
     ]
    }
   ],
   "source": [
    "n=0\n",
    "acc_scores=list()\n",
    "for train_index, test_index in rs.split(X):\n",
    "#   print(\"TRAIN:\", train_index.shape, \"TEST:\", test_index.shape)\n",
    "    X_train, X_test = X.iloc[train_index], X.iloc[test_index]\n",
    "    y_train, y_test = y.iloc[train_index], y.iloc[test_index]\n",
    "    \n",
    "    model = DecisionTreeClassifier(criterion='entropy', max_depth=7, min_samples_leaf=70)\n",
    "    model.fit(X_train, y_train)\n",
    "    \n",
    "    predicts=model.predict(X_test)\n",
    "    \n",
    "    acc_scores.append(accuracy_score(y_test, predicts))\n",
    "    \n",
    "    n+=1\n",
    "print(f'number of subsets:{n}')\n",
    " "
   ]
  },
  {
   "cell_type": "code",
   "execution_count": 8,
   "id": "09fa441e",
   "metadata": {},
   "outputs": [
    {
     "data": {
      "text/plain": [
       "0.66"
      ]
     },
     "execution_count": 8,
     "metadata": {},
     "output_type": "execute_result"
    }
   ],
   "source": [
    "max(acc_scores)"
   ]
  },
  {
   "cell_type": "markdown",
   "id": "184b2f0f",
   "metadata": {},
   "source": [
    "#### For each instance in the test set, predict its class using 1200 trees, and keep only the most frequent prediction. Evaluate these predictions. Did you get lower or higher accuracy?"
   ]
  },
  {
   "cell_type": "code",
   "execution_count": 20,
   "id": "022aabe5",
   "metadata": {},
   "outputs": [],
   "source": [
    "rs = ShuffleSplit(n_splits=1500, random_state=42, train_size=100, test_size=100)\n",
    "\n",
    "model = DecisionTreeClassifier(criterion='entropy', max_depth=9, min_samples_leaf=55)\n",
    "predicts_df=pd.DataFrame()\n",
    "\n",
    "X_train, X_test, y_train, y_test = train_test_split(X, y, test_size=0.25)\n",
    "\n",
    "for train_index, test_index in rs.split(X):\n",
    "    \n",
    "    X_train = X.iloc[train_index]\n",
    "    y_train = y.iloc[train_index]\n",
    "    \n",
    "    model.fit(X_train, y_train)\n",
    "    predicts=model.predict(X_test)\n",
    "    \n",
    "    acc_scores.append(accuracy_score(y_test, predicts))\n",
    "    "
   ]
  },
  {
   "cell_type": "code",
   "execution_count": 21,
   "id": "1e3c2457",
   "metadata": {},
   "outputs": [
    {
     "data": {
      "text/plain": [
       "0.66"
      ]
     },
     "execution_count": 21,
     "metadata": {},
     "output_type": "execute_result"
    }
   ],
   "source": [
    "max(acc_scores)"
   ]
  },
  {
   "cell_type": "code",
   "execution_count": 19,
   "id": "bafa0ef8",
   "metadata": {},
   "outputs": [
    {
     "data": {
      "text/plain": [
       "(3750,)"
      ]
     },
     "execution_count": 19,
     "metadata": {},
     "output_type": "execute_result"
    }
   ],
   "source": [
    "predicts.shape"
   ]
  },
  {
   "cell_type": "code",
   "execution_count": null,
   "id": "d7b61411",
   "metadata": {},
   "outputs": [],
   "source": []
  },
  {
   "cell_type": "code",
   "execution_count": null,
   "id": "004dd593",
   "metadata": {},
   "outputs": [],
   "source": []
  }
 ],
 "metadata": {
  "kernelspec": {
   "display_name": "Python 3 (ipykernel)",
   "language": "python",
   "name": "python3"
  },
  "language_info": {
   "codemirror_mode": {
    "name": "ipython",
    "version": 3
   },
   "file_extension": ".py",
   "mimetype": "text/x-python",
   "name": "python",
   "nbconvert_exporter": "python",
   "pygments_lexer": "ipython3",
   "version": "3.10.2"
  }
 },
 "nbformat": 4,
 "nbformat_minor": 5
}
